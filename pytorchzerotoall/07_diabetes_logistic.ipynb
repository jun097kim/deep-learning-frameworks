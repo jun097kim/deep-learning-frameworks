{
 "cells": [
  {
   "cell_type": "code",
   "execution_count": 4,
   "metadata": {},
   "outputs": [],
   "source": [
    "import numpy as np\n",
    "import torch\n",
    "from torch.autograd import Variable\n",
    "\n",
    "xy = np.loadtxt('data/diabetes.csv', delimiter=',', dtype=np.float32)\n",
    "x_data = Variable(torch.from_numpy(xy[:, 0:-1]))\n",
    "y_data = Variable(torch.from_numpy(xy[:, [-1]]))"
   ]
  },
  {
   "cell_type": "markdown",
   "metadata": {},
   "source": [
    "## Design model"
   ]
  },
  {
   "cell_type": "code",
   "execution_count": 5,
   "metadata": {},
   "outputs": [],
   "source": [
    "class Model(torch.nn.Module):\n",
    "    def __init__(self):\n",
    "        \"\"\"\n",
    "        In the constructor we instantiate three nn.Linear module\n",
    "        \"\"\"\n",
    "        super(Model, self).__init__()\n",
    "        self.l1 = torch.nn.Linear(8, 6)\n",
    "        self.l2 = torch.nn.Linear(6, 4)\n",
    "        self.l3= torch.nn.Linear(4, 1)\n",
    "        \n",
    "        self.sigmoid = torch.nn.Sigmoid()\n",
    "        \n",
    "    def forward(self, x):\n",
    "        \"\"\"\n",
    "        In the forward function we accept a Variable of input data and we must return\n",
    "        a Variable of output data. We can use Modules defined in the constructor as\n",
    "        well as arbitrary operators on Variables.\n",
    "        \"\"\"\n",
    "        out1 = self.sigmoid(self.l1(x))\n",
    "        out2 = self.sigmoid(self.l2(out1))\n",
    "        y_pred = self.sigmoid(self.l3(out2))\n",
    "        return y_pred\n",
    "    \n",
    "# our model\n",
    "model = Model()"
   ]
  },
  {
   "cell_type": "markdown",
   "metadata": {},
   "source": [
    "## Construct loss and optimizer"
   ]
  },
  {
   "cell_type": "code",
   "execution_count": 7,
   "metadata": {},
   "outputs": [],
   "source": [
    "# Construct our loss function and an Optimizer. The call to model.parameters()\n",
    "# in the SGD constructor will contain the learnable parametes of the three\n",
    "# nn.Linear modules which are members of the model.\n",
    "criterion = torch.nn.BCELoss(size_average=True)\n",
    "optimizer = torch.optim.SGD(model.parameters(), lr=0.1)"
   ]
  },
  {
   "cell_type": "markdown",
   "metadata": {},
   "source": [
    "## Training cycle"
   ]
  },
  {
   "cell_type": "code",
   "execution_count": 8,
   "metadata": {},
   "outputs": [
    {
     "name": "stdout",
     "output_type": "stream",
     "text": [
      "0 0.7349616289138794\n",
      "1 0.7260209918022156\n",
      "2 0.7179750204086304\n",
      "3 0.710736870765686\n",
      "4 0.7042251825332642\n",
      "5 0.6983659267425537\n",
      "6 0.6930961608886719\n",
      "7 0.6883549094200134\n",
      "8 0.6840885281562805\n",
      "9 0.6802496910095215\n",
      "10 0.676794707775116\n",
      "11 0.6736848950386047\n",
      "12 0.6708842515945435\n",
      "13 0.6683629155158997\n",
      "14 0.6660914421081543\n",
      "15 0.6640451550483704\n",
      "16 0.6622009873390198\n",
      "17 0.6605387330055237\n",
      "18 0.6590403318405151\n",
      "19 0.6576891541481018\n",
      "20 0.656470537185669\n",
      "21 0.6553707718849182\n",
      "22 0.6543787121772766\n",
      "23 0.6534829139709473\n",
      "24 0.6526740193367004\n",
      "25 0.6519437432289124\n",
      "26 0.6512842774391174\n",
      "27 0.6506888270378113\n",
      "28 0.6501503586769104\n",
      "29 0.6496636271476746\n",
      "30 0.6492236852645874\n",
      "31 0.6488261222839355\n",
      "32 0.6484665870666504\n",
      "33 0.6481412649154663\n",
      "34 0.6478468179702759\n",
      "35 0.6475803256034851\n",
      "36 0.6473397612571716\n",
      "37 0.6471213698387146\n",
      "38 0.6469240188598633\n",
      "39 0.6467452645301819\n",
      "40 0.6465832591056824\n",
      "41 0.6464365720748901\n",
      "42 0.6463039517402649\n",
      "43 0.646183967590332\n",
      "44 0.6460744738578796\n",
      "45 0.6459758281707764\n",
      "46 0.645885705947876\n",
      "47 0.6458045244216919\n",
      "48 0.6457307934761047\n",
      "49 0.6456640362739563\n",
      "50 0.6456034779548645\n",
      "51 0.6455485224723816\n",
      "52 0.6454986333847046\n",
      "53 0.6454534530639648\n",
      "54 0.6454121470451355\n",
      "55 0.645374596118927\n",
      "56 0.6453409194946289\n",
      "57 0.6453095078468323\n",
      "58 0.6452820897102356\n",
      "59 0.6452566385269165\n",
      "60 0.6452326774597168\n",
      "61 0.6452123522758484\n",
      "62 0.6451930403709412\n",
      "63 0.6451752781867981\n",
      "64 0.6451597809791565\n",
      "65 0.6451448798179626\n",
      "66 0.6451314091682434\n",
      "67 0.6451195478439331\n",
      "68 0.645108699798584\n",
      "69 0.6450977921485901\n",
      "70 0.6450892686843872\n",
      "71 0.6450812220573425\n",
      "72 0.6450732350349426\n",
      "73 0.6450656652450562\n",
      "74 0.6450594663619995\n",
      "75 0.6450532078742981\n",
      "76 0.6450480222702026\n",
      "77 0.6450431942939758\n",
      "78 0.645038366317749\n",
      "79 0.64503413438797\n",
      "80 0.6450304985046387\n",
      "81 0.6450260281562805\n",
      "82 0.6450229287147522\n",
      "83 0.6450197100639343\n",
      "84 0.6450170278549194\n",
      "85 0.6450138688087463\n",
      "86 0.6450114250183105\n",
      "87 0.6450092196464539\n",
      "88 0.6450067162513733\n",
      "89 0.6450046300888062\n",
      "90 0.6450026631355286\n",
      "91 0.6450008153915405\n",
      "92 0.644999086856842\n",
      "93 0.6449974179267883\n",
      "94 0.6449956297874451\n",
      "95 0.6449942588806152\n",
      "96 0.6449925303459167\n",
      "97 0.644991397857666\n",
      "98 0.6449899077415466\n",
      "99 0.6449889540672302\n"
     ]
    }
   ],
   "source": [
    "# Training loop\n",
    "for epoch in range(100):\n",
    "    # Forward pass: Compute predicted y by passing x to the model\n",
    "    y_pred = model(x_data)\n",
    "    \n",
    "    # Compute and print loss\n",
    "    loss = criterion(y_pred, y_data)\n",
    "    print(epoch, loss.data.item())\n",
    "    \n",
    "    # Zero gradients, perform a backward pass, and update the weights.\n",
    "    optimizer.zero_grad()\n",
    "    loss.backward()\n",
    "    optimizer.step()"
   ]
  },
  {
   "cell_type": "code",
   "execution_count": null,
   "metadata": {},
   "outputs": [],
   "source": []
  }
 ],
 "metadata": {
  "kernelspec": {
   "display_name": "PyTorch",
   "language": "python",
   "name": "pytorch"
  },
  "language_info": {
   "codemirror_mode": {
    "name": "ipython",
    "version": 3
   },
   "file_extension": ".py",
   "mimetype": "text/x-python",
   "name": "python",
   "nbconvert_exporter": "python",
   "pygments_lexer": "ipython3",
   "version": "3.7.2"
  }
 },
 "nbformat": 4,
 "nbformat_minor": 2
}
