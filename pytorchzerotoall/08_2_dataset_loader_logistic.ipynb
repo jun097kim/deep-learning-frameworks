{
 "cells": [
  {
   "cell_type": "code",
   "execution_count": 7,
   "metadata": {},
   "outputs": [],
   "source": [
    "import torch\n",
    "import numpy as np\n",
    "from torch.autograd import Variable\n",
    "from torch.utils.data import Dataset, DataLoader\n",
    "\n",
    "class DiabetesDataset(Dataset):\n",
    "    def __init__(self):\n",
    "        xy = np.loadtxt('data/diabetes.csv', delimiter=',', dtype=np.float32)\n",
    "        self.len = xy.shape[0]\n",
    "        self.x_data = torch.from_numpy(xy[:, 0:-1])\n",
    "        self.y_data = torch.from_numpy(xy[:, [-1]])\n",
    "        \n",
    "    def __getitem__(self, index):\n",
    "        return self.x_data[index], self.y_data[index]\n",
    "    \n",
    "    def __len__(self):\n",
    "        return self.len\n",
    "    \n",
    "dataset = DiabetesDataset()\n",
    "train_loader = DataLoader(dataset=dataset,\n",
    "                                          batch_size=32,\n",
    "                                          shuffle=True,\n",
    "                                          num_workers=2)"
   ]
  },
  {
   "cell_type": "markdown",
   "metadata": {},
   "source": [
    "## Design model"
   ]
  },
  {
   "cell_type": "code",
   "execution_count": 8,
   "metadata": {},
   "outputs": [],
   "source": [
    "class Model(torch.nn.Module):\n",
    "    def __init__(self):\n",
    "        super(Model, self).__init__()\n",
    "        self.l1 = torch.nn.Linear(8, 6)\n",
    "        self.l2 = torch.nn.Linear(6, 4)\n",
    "        self.l3 = torch.nn.Linear(4, 1)\n",
    "        \n",
    "        self.sigmoid = torch.nn.Sigmoid()\n",
    "        \n",
    "    def forward(self, x):\n",
    "        out1 = self.sigmoid(self.l1(x))\n",
    "        out2 = self.sigmoid(self.l2(out1))\n",
    "        y_pred = self.sigmoid(self.l3(out2))\n",
    "        return y_pred\n",
    "    \n",
    "model = Model()"
   ]
  },
  {
   "cell_type": "markdown",
   "metadata": {},
   "source": [
    "## Construct loss and optimizer"
   ]
  },
  {
   "cell_type": "code",
   "execution_count": 9,
   "metadata": {},
   "outputs": [],
   "source": [
    "criterion = torch.nn.BCELoss(size_average=True)\n",
    "optimizer = torch.optim.SGD(model.parameters(), lr=0.1)"
   ]
  },
  {
   "cell_type": "markdown",
   "metadata": {},
   "source": [
    "## Training cycle"
   ]
  },
  {
   "cell_type": "code",
   "execution_count": 10,
   "metadata": {},
   "outputs": [
    {
     "name": "stdout",
     "output_type": "stream",
     "text": [
      "0 0 0.6726604700088501\n",
      "0 1 0.6755189895629883\n",
      "0 2 0.662344217300415\n",
      "0 3 0.6680908799171448\n",
      "0 4 0.6795189380645752\n",
      "0 5 0.6574714779853821\n",
      "0 6 0.662307858467102\n",
      "0 7 0.6784470677375793\n",
      "0 8 0.6593003273010254\n",
      "0 9 0.6774241924285889\n",
      "0 10 0.6775094270706177\n",
      "0 11 0.629450798034668\n",
      "0 12 0.6987430453300476\n",
      "0 13 0.6144876480102539\n",
      "0 14 0.6644904613494873\n",
      "0 15 0.6764631271362305\n",
      "0 16 0.6522276401519775\n",
      "0 17 0.6272885799407959\n",
      "0 18 0.6765933036804199\n",
      "0 19 0.6766569018363953\n",
      "0 20 0.6641612648963928\n",
      "0 21 0.6767404675483704\n",
      "0 22 0.610630452632904\n",
      "0 23 0.6315258145332336\n",
      "1 0 0.6188784241676331\n",
      "1 1 0.6316896677017212\n",
      "1 2 0.5682040452957153\n",
      "1 3 0.594304084777832\n",
      "1 4 0.6807619333267212\n",
      "1 5 0.75078284740448\n",
      "1 6 0.6792598366737366\n",
      "1 7 0.7118653655052185\n",
      "1 8 0.6623689532279968\n",
      "1 9 0.6319018602371216\n",
      "1 10 0.6944113969802856\n",
      "1 11 0.6312404870986938\n",
      "1 12 0.6151493787765503\n",
      "1 13 0.6137449145317078\n",
      "1 14 0.6288698315620422\n",
      "1 15 0.7334532737731934\n",
      "1 16 0.6125110983848572\n",
      "1 17 0.5765492916107178\n",
      "1 18 0.6448798775672913\n",
      "1 19 0.6635935306549072\n",
      "1 20 0.6262268424034119\n",
      "1 21 0.66349196434021\n",
      "1 22 0.6077846884727478\n",
      "1 23 0.7524648904800415\n"
     ]
    }
   ],
   "source": [
    "for epoch in range(2):\n",
    "    for i, data in enumerate(train_loader, 0):\n",
    "        # get the inputs\n",
    "        inputs, labels = data\n",
    "        \n",
    "        # wrap them in Variable\n",
    "        inputs, labels = Variable(inputs), Variable(labels)\n",
    "        \n",
    "        # Forward pass: Compute predicted y by passing x to the model\n",
    "        y_pred = model(inputs)\n",
    "        \n",
    "        # Compute and print loss\n",
    "        loss = criterion(y_pred, labels)\n",
    "        print(epoch, i, loss.data.item())\n",
    "        \n",
    "        # Zero gradients, perform a backward pass, and update the weights.\n",
    "        optimizer.zero_grad()\n",
    "        loss.backward()\n",
    "        optimizer.step()"
   ]
  },
  {
   "cell_type": "code",
   "execution_count": null,
   "metadata": {},
   "outputs": [],
   "source": []
  }
 ],
 "metadata": {
  "kernelspec": {
   "display_name": "PyTorch",
   "language": "python",
   "name": "pytorch"
  },
  "language_info": {
   "codemirror_mode": {
    "name": "ipython",
    "version": 3
   },
   "file_extension": ".py",
   "mimetype": "text/x-python",
   "name": "python",
   "nbconvert_exporter": "python",
   "pygments_lexer": "ipython3",
   "version": "3.7.2"
  }
 },
 "nbformat": 4,
 "nbformat_minor": 2
}
