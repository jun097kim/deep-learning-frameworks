{
 "cells": [
  {
   "cell_type": "code",
   "execution_count": 2,
   "metadata": {},
   "outputs": [],
   "source": [
    "import torch\n",
    "from torch.autograd import Variable\n",
    "\n",
    "x_data = [1.0, 2.0, 3.0]\n",
    "y_data = [2.0, 4.0, 6.0]\n",
    "\n",
    "w1 = Variable(torch.Tensor([1.0]), requires_grad=True)\n",
    "w2 = Variable(torch.Tensor([1.0]), requires_grad=True)\n",
    "b = Variable(torch.Tensor([1.0]), requires_grad=True)"
   ]
  },
  {
   "cell_type": "code",
   "execution_count": 4,
   "metadata": {},
   "outputs": [],
   "source": [
    "# our model forward pass\n",
    "def forward(x):\n",
    "    return x * x * w2 + x * w1 + b\n",
    "\n",
    "# Loss function\n",
    "def loss(x, y):\n",
    "    y_pred = forward(x)\n",
    "    return (y_pred - y) * (y_pred - y)"
   ]
  },
  {
   "cell_type": "code",
   "execution_count": 7,
   "metadata": {},
   "outputs": [
    {
     "name": "stdout",
     "output_type": "stream",
     "text": [
      "predict (before training) 4 tensor(8.6220)\n",
      "\tgrad:  1.0 2.0 tensor(0.1116) tensor(0.1116)\n",
      "\tgrad:  2.0 4.0 tensor(-1.2479) tensor(-2.4958)\n",
      "\tgrad:  3.0 6.0 tensor(0.8303) tensor(2.4908)\n",
      "progress: 0 tensor(0.0191)\n",
      "\tgrad:  1.0 2.0 tensor(0.1203) tensor(0.1203)\n",
      "\tgrad:  2.0 4.0 tensor(-1.2335) tensor(-2.4669)\n",
      "\tgrad:  3.0 6.0 tensor(0.8165) tensor(2.4496)\n",
      "progress: 1 tensor(0.0185)\n",
      "\tgrad:  1.0 2.0 tensor(0.1286) tensor(0.1286)\n",
      "\tgrad:  2.0 4.0 tensor(-1.2196) tensor(-2.4392)\n",
      "\tgrad:  3.0 6.0 tensor(0.8034) tensor(2.4101)\n",
      "progress: 2 tensor(0.0179)\n",
      "\tgrad:  1.0 2.0 tensor(0.1367) tensor(0.1367)\n",
      "\tgrad:  2.0 4.0 tensor(-1.2062) tensor(-2.4124)\n",
      "\tgrad:  3.0 6.0 tensor(0.7907) tensor(2.3720)\n",
      "progress: 3 tensor(0.0174)\n",
      "\tgrad:  1.0 2.0 tensor(0.1444) tensor(0.1444)\n",
      "\tgrad:  2.0 4.0 tensor(-1.1933) tensor(-2.3867)\n",
      "\tgrad:  3.0 6.0 tensor(0.7785) tensor(2.3354)\n",
      "progress: 4 tensor(0.0168)\n",
      "\tgrad:  1.0 2.0 tensor(0.1518) tensor(0.1518)\n",
      "\tgrad:  2.0 4.0 tensor(-1.1810) tensor(-2.3619)\n",
      "\tgrad:  3.0 6.0 tensor(0.7667) tensor(2.3001)\n",
      "progress: 5 tensor(0.0163)\n",
      "\tgrad:  1.0 2.0 tensor(0.1589) tensor(0.1589)\n",
      "\tgrad:  2.0 4.0 tensor(-1.1690) tensor(-2.3380)\n",
      "\tgrad:  3.0 6.0 tensor(0.7554) tensor(2.2662)\n",
      "progress: 6 tensor(0.0159)\n",
      "\tgrad:  1.0 2.0 tensor(0.1657) tensor(0.1657)\n",
      "\tgrad:  2.0 4.0 tensor(-1.1575) tensor(-2.3151)\n",
      "\tgrad:  3.0 6.0 tensor(0.7445) tensor(2.2336)\n",
      "progress: 7 tensor(0.0154)\n",
      "\tgrad:  1.0 2.0 tensor(0.1723) tensor(0.1723)\n",
      "\tgrad:  2.0 4.0 tensor(-1.1465) tensor(-2.2929)\n",
      "\tgrad:  3.0 6.0 tensor(0.7341) tensor(2.2022)\n",
      "progress: 8 tensor(0.0150)\n",
      "\tgrad:  1.0 2.0 tensor(0.1786) tensor(0.1786)\n",
      "\tgrad:  2.0 4.0 tensor(-1.1358) tensor(-2.2716)\n",
      "\tgrad:  3.0 6.0 tensor(0.7240) tensor(2.1719)\n",
      "progress: 9 tensor(0.0146)\n",
      "predict (after training) 4 tensor(8.6009)\n"
     ]
    }
   ],
   "source": [
    "# Before training\n",
    "print(\"predict (before training)\", 4, forward(4).data[0])\n",
    "\n",
    "# Training loop\n",
    "for epoch in range(10):\n",
    "    for x_val, y_val in zip(x_data, y_data):\n",
    "        l = loss(x_val, y_val)\n",
    "        l.backward()\n",
    "        print(\"\\tgrad: \", x_val, y_val, w1.grad.data[0], w2.grad.data[0])\n",
    "        w1.data = w1.data - 0.01 * w1.grad.data\n",
    "        w2.data = w2.data - 0.01 * w2.grad.data\n",
    "        b.data = b.data - 0.01 * b.grad.data\n",
    "        \n",
    "        # Manually zero the gradients after updating weights\n",
    "        w1.grad.data.zero_()\n",
    "        w2.grad.data.zero_()\n",
    "        b.grad.data.zero_()\n",
    "        \n",
    "    print(\"progress:\", epoch, l.data[0])\n",
    "    \n",
    "# After training\n",
    "print(\"predict (after training)\", 4, forward(4).data[0])"
   ]
  },
  {
   "cell_type": "code",
   "execution_count": null,
   "metadata": {},
   "outputs": [],
   "source": []
  }
 ],
 "metadata": {
  "kernelspec": {
   "display_name": "PyTorch",
   "language": "python",
   "name": "pytorch"
  },
  "language_info": {
   "codemirror_mode": {
    "name": "ipython",
    "version": 3
   },
   "file_extension": ".py",
   "mimetype": "text/x-python",
   "name": "python",
   "nbconvert_exporter": "python",
   "pygments_lexer": "ipython3",
   "version": "3.7.2"
  }
 },
 "nbformat": 4,
 "nbformat_minor": 2
}
